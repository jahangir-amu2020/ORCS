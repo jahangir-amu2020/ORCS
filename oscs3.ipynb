{
  "nbformat": 4,
  "nbformat_minor": 0,
  "metadata": {
    "colab": {
      "name": "oscs3.ipynb",
      "provenance": [],
      "collapsed_sections": [],
      "authorship_tag": "ABX9TyNdlCY8kKi5NLeMh9cz5U41",
      "include_colab_link": true
    },
    "kernelspec": {
      "name": "python3",
      "display_name": "Python 3"
    }
  },
  "cells": [
    {
      "cell_type": "markdown",
      "metadata": {
        "id": "view-in-github",
        "colab_type": "text"
      },
      "source": [
        "<a href=\"https://colab.research.google.com/github/jahangir-amu2020/ORCS/blob/master/oscs3.ipynb\" target=\"_parent\"><img src=\"https://colab.research.google.com/assets/colab-badge.svg\" alt=\"Open In Colab\"/></a>"
      ]
    },
    {
      "cell_type": "code",
      "metadata": {
        "id": "-DSqYQF1IpH4",
        "colab_type": "code",
        "colab": {
          "base_uri": "https://localhost:8080/",
          "height": 204
        },
        "outputId": "abb7c6bd-c5f3-4515-ca52-baa14cdd2ac5"
      },
      "source": [
        "#Install Reuired Package\n",
        "#!pip install ortools #Execute only once\n",
        "#Import required functions\n",
        "from __future__ import print_function\n",
        "from ortools.linear_solver import pywraplp\n",
        "def assignment():\n",
        "  \"Initialize Problem Data\"\n",
        "  pd = {}\n",
        "  pd['cmatrix']=[\n",
        "           [18,26,17,11],\n",
        "           [13,28,14,26],\n",
        "           [38,19,18,15],\n",
        "           [19,26,24,10],\n",
        "  ]\n",
        "  pd['ntasks']=4\n",
        "  pd['nsubs']=4\n",
        "  return pd\n",
        "pd=assignment()  \n",
        "#Enable the mixed-integer-programming CBC solver\n",
        "sol=pywraplp.Solver.CreateSolver('amip', 'CBC')\n",
        "#Create integer variables to hold 0 0r 1\n",
        "x={}\n",
        "for i in range(pd['ntasks']):\n",
        "  for j in range(pd['nsubs']):\n",
        "    x[i,j]=sol.IntVar(0, 1, '')\n",
        "print('Decision variables =', sol.NumVariables())\n",
        "#Enable Constraint 1: Only one task is to be assigned to each subordinate\n",
        "for i in range(pd['ntasks']):\n",
        "  sol.Add(sol.Sum([x[i, j] for j in range(pd['nsubs'])]) == 1)\n",
        "\n",
        "#Enable Constraint 2: Each subordinate should receives exactly one task\n",
        "for j in range(pd['nsubs']):\n",
        "  sol.Add(sol.Sum([x[i, j] for i in range(pd['ntasks'])]) == 1)  \n",
        "#Formulate the objective function\n",
        "objf=[]\n",
        "for i in range(pd['ntasks']):\n",
        "  for j in range(pd['nsubs']):\n",
        "    objf.append(pd['cmatrix'][i][j] * x[i, j])\n",
        "sol.Minimize(sol.Sum(objf))    \n",
        "st=sol.Solve()    \n",
        "if st == pywraplp.Solver.OPTIMAL or st == pywraplp.Solver.FEASIBLE:\n",
        "        print('Total cost = ', sol.Objective().Value(), '\\n')\n",
        "        for i in range(pd['nsubs']):\n",
        "            for j in range(pd['ntasks']):\n",
        "                # Test if x[i,j] is 1 (or greater than 0.5 in which case it should round off to 1.0).\n",
        "                if x[i, j].solution_value() > 0.5:\n",
        "                    print('Subordinate %d id assigned to Task %d.  Assignment Cost = %d' %\n",
        "                          (i+1, j+1, pd['cmatrix'][i][j]))"
      ],
      "execution_count": 15,
      "outputs": [
        {
          "output_type": "stream",
          "text": [
            "Requirement already satisfied: ortools in /usr/local/lib/python3.6/dist-packages (7.8.7959)\n",
            "Requirement already satisfied: six>=1.10 in /usr/local/lib/python3.6/dist-packages (from ortools) (1.15.0)\n",
            "Requirement already satisfied: protobuf>=3.12.2 in /usr/local/lib/python3.6/dist-packages (from ortools) (3.12.4)\n",
            "Requirement already satisfied: setuptools in /usr/local/lib/python3.6/dist-packages (from protobuf>=3.12.2->ortools) (49.6.0)\n",
            "Decision variables = 16\n",
            "Total cost =  59.0 \n",
            "\n",
            "Subordinate 1 id assigned to Task 3.  Assignment Cost = 17\n",
            "Subordinate 2 id assigned to Task 1.  Assignment Cost = 13\n",
            "Subordinate 3 id assigned to Task 2.  Assignment Cost = 19\n",
            "Subordinate 4 id assigned to Task 4.  Assignment Cost = 10\n"
          ],
          "name": "stdout"
        }
      ]
    }
  ]
}