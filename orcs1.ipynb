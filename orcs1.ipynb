{
  "nbformat": 4,
  "nbformat_minor": 0,
  "metadata": {
    "colab": {
      "name": "oscs1.ipynb",
      "provenance": [],
      "collapsed_sections": []
    },
    "kernelspec": {
      "name": "python3",
      "display_name": "Python 3"
    }
  },
  "cells": [
    {
      "cell_type": "code",
      "metadata": {
        "id": "ZI0YmNTUJh4f",
        "colab_type": "code",
        "colab": {
          "base_uri": "https://localhost:8080/",
          "height": 136
        },
        "outputId": "e0bd5268-8564-46bf-9a24-b19a719f1f47"
      },
      "source": [
        "#Install Reuired Package\n",
        "#!pip install ortools #Execute only once\n",
        "#Import required functions\n",
        "from __future__ import print_function\n",
        "from ortools.linear_solver import pywraplp\n",
        "# Invoke the solver with GLOP.\n",
        "sol = pywraplp.Solver.CreateSolver('Product Allocation Problem', 'GLOP')\n",
        "# Populate variables a,b,c\n",
        "a = sol.NumVar(0, sol.infinity(), 'a') #Enables the constraint a>=0\n",
        "b = sol.NumVar(0, sol.infinity(), 'b') #Enables the constraint b>=0\n",
        "c = sol.NumVar(0, sol.infinity(), 'c') #Enables the constraint c>=0\n",
        "print('Decision variables =', sol.NumVariables())\n",
        "#Formulate First Constraint 4a + 12b + 8c <= 5400\n",
        "cst1 = sol.Constraint(0, 5400, 'cst1')\n",
        "cst1.SetCoefficient(a, 4)\n",
        "cst1.SetCoefficient(b, 12)\n",
        "cst1.SetCoefficient(c, 8)\n",
        "#Formulate Second Constraint 4a + 4b + 8c <= 3600\n",
        "cst2 = sol.Constraint(0, 3600, 'cst2')\n",
        "cst2.SetCoefficient(a, 4)\n",
        "cst2.SetCoefficient(b, 4)\n",
        "cst2.SetCoefficient(c, 8)\n",
        "#Formulate Third Constraint 12a + 4b + 8c <= 6000\n",
        "cst3 = sol.Constraint(0, 6000, 'cst3')\n",
        "cst3.SetCoefficient(a, 12)\n",
        "cst3.SetCoefficient(b, 4)\n",
        "cst3.SetCoefficient(c, 8)\n",
        "print('Total constraints =', sol.NumConstraints())\n",
        "# Formulate the objective function z = 4a + 3b + 5c\n",
        "objf = sol.Objective()\n",
        "objf.SetCoefficient(a, 4)\n",
        "objf.SetCoefficient(b, 3)\n",
        "objf.SetCoefficient(c, 5)\n",
        "objf.SetMaximization()\n",
        "sol.Solve()\n",
        "print('Product Allocation Problem Solution:')\n",
        "print('Objective value =', objf.Value())\n",
        "print('a =', a.solution_value())\n",
        "print('b =', b.solution_value())\n",
        "print('c =', c.solution_value())"
      ],
      "execution_count": 4,
      "outputs": [
        {
          "output_type": "stream",
          "text": [
            "Decision variables = 3\n",
            "Total constraints = 3\n",
            "Product Allocation Problem Solution:\n",
            "Objective value = 2812.5\n",
            "a = 300.00000000000006\n",
            "b = 225.0\n",
            "c = 187.49999999999997\n"
          ],
          "name": "stdout"
        }
      ]
    }
  ]
}