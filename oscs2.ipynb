{
  "nbformat": 4,
  "nbformat_minor": 0,
  "metadata": {
    "colab": {
      "name": "final-new2d.ipynb",
      "provenance": [],
      "collapsed_sections": [],
      "authorship_tag": "ABX9TyOw+VdmSVWVKCw2AR1UpT5x",
      "include_colab_link": true
    },
    "kernelspec": {
      "name": "python3",
      "display_name": "Python 3"
    }
  },
  "cells": [
    {
      "cell_type": "markdown",
      "metadata": {
        "id": "view-in-github",
        "colab_type": "text"
      },
      "source": [
        "<a href=\"https://colab.research.google.com/github/jahangir-amu2020/ORCS/blob/master/oscs2.ipynb\" target=\"_parent\"><img src=\"https://colab.research.google.com/assets/colab-badge.svg\" alt=\"Open In Colab\"/></a>"
      ]
    },
    {
      "cell_type": "code",
      "metadata": {
        "id": "i8B9Rj7a75Sf",
        "colab_type": "code",
        "colab": {
          "base_uri": "https://localhost:8080/",
          "height": 357
        },
        "outputId": "3ba4fc8b-e925-44a2-8891-1a9942845b95"
      },
      "source": [
        "#Install Reuired Package\n",
        "!pip install ortools #Execute only once\n",
        "#Import required functions\n",
        "from __future__ import print_function\n",
        "from ortools.linear_solver import pywraplp\n",
        "def transmodel():\n",
        "  \"Initialize Problem Data\"\n",
        "  pd = {}\n",
        "  pd['cbound'] = [12000,8000,5000]\n",
        "  pd['dbound'] = [9000,3000,9500,1500]\n",
        "  pd['obcoeff'] = [\n",
        "                   [35,40,60,120],\n",
        "                   [30,30,45,130],\n",
        "                   [60,65,50,100],\n",
        "                  ] \n",
        "  pd['ncc'] = 3\n",
        "  pd['ndc'] = 4\n",
        "  return pd\n",
        "pd = transmodel() \n",
        "solver = pywraplp.Solver.CreateSolver('Transportation', 'GLOP')\n",
        "inf = solver.infinity()\n",
        "x={}\n",
        "#Create Variables and enforce greater than zero constraints\n",
        "for i in range(pd['ncc']):\n",
        "  for j in range(pd['ndc']):\n",
        "    x[i, j] = solver.NumVar(0, inf, '')\n",
        "print('Decision variables =', solver.NumVariables())\n",
        "#Enforce Capacity Constraints\n",
        "for i in range(pd['ncc']):\n",
        "  constraint = solver.RowConstraint(0, pd['cbound'][i], '')\n",
        "  for j in range(pd['ndc']):\n",
        "    constraint.SetCoefficient(x[i,j], 1)\n",
        "#Enforce Capacity Constraints\n",
        "for i in range(pd['ndc']):\n",
        "  constraint = solver.RowConstraint(pd['dbound'][i],inf, '')\n",
        "  for j in range(pd['ncc']):\n",
        "    constraint.SetCoefficient(x[j,i], 1)   \n",
        "print('Total constraints =', solver.NumConstraints())     \n",
        " # Formulate the objective function \n",
        "objf = solver.Objective()\n",
        "for i in range(pd['ncc']):\n",
        "  for j in range(pd['ndc']):\n",
        "    objf.SetCoefficient(x[i,j], pd['obcoeff'][i][j])\n",
        "objf.SetMinimization()\n",
        "solver.Solve()   \n",
        "print('Transportation Problem Solution:')\n",
        "print('Objective value =', objf.Value())\n",
        "for i in range(pd['ncc']):\n",
        "  for j in range(pd['ndc']):\n",
        "    print('x[', i, j,']', ' = ', x[i,j].solution_value())"
      ],
      "execution_count": null,
      "outputs": [
        {
          "output_type": "stream",
          "text": [
            "Requirement already satisfied: ortools in /usr/local/lib/python3.6/dist-packages (7.8.7959)\n",
            "Requirement already satisfied: protobuf>=3.12.2 in /usr/local/lib/python3.6/dist-packages (from ortools) (3.12.4)\n",
            "Requirement already satisfied: six>=1.10 in /usr/local/lib/python3.6/dist-packages (from ortools) (1.15.0)\n",
            "Requirement already satisfied: setuptools in /usr/local/lib/python3.6/dist-packages (from protobuf>=3.12.2->ortools) (49.6.0)\n",
            "Decision variables = 12\n",
            "Total constraints = 7\n",
            "Transportation Problem Solution:\n",
            "Objective value = 1010000.0\n",
            "x[ 0 0 ]  =  9000.0\n",
            "x[ 0 1 ]  =  999.9999999999998\n",
            "x[ 0 2 ]  =  0.0\n",
            "x[ 0 3 ]  =  0.0\n",
            "x[ 1 0 ]  =  0.0\n",
            "x[ 1 1 ]  =  2000.0000000000002\n",
            "x[ 1 2 ]  =  5999.999999999999\n",
            "x[ 1 3 ]  =  0.0\n",
            "x[ 2 0 ]  =  0.0\n",
            "x[ 2 1 ]  =  0.0\n",
            "x[ 2 2 ]  =  3500.0\n",
            "x[ 2 3 ]  =  1500.0\n"
          ],
          "name": "stdout"
        }
      ]
    }
  ]
}